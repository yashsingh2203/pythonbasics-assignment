{
  "nbformat": 4,
  "nbformat_minor": 0,
  "metadata": {
    "colab": {
      "private_outputs": true,
      "provenance": []
    },
    "kernelspec": {
      "name": "python3",
      "display_name": "Python 3"
    },
    "language_info": {
      "name": "python"
    }
  },
  "cells": [
    {
      "cell_type": "markdown",
      "source": [
        "Python is a  general-purpose programming language. It emphasizes code readability with its clear syntax and use of indentation. This makes it relatively easy to learn and use, even for beginners.\n",
        "\n",
        " why python is so popular?\n",
        "1.  Beginner friendliy\n",
        "2.  vast libraries\n",
        "3.  large and active users\n",
        "4.   readability and easy to use\n",
        "5.   cross platform compatability\n",
        "\n",
        "\n",
        "\n",
        "\n",
        "\n",
        "\n",
        "\n"
      ],
      "metadata": {
        "id": "ldSBqqUN1Pgt"
      }
    },
    {
      "cell_type": "markdown",
      "source": [
        "2. what is interpreter in python?\n",
        "\n",
        "*  it is a bridge between user code and python\n",
        "* it reads and execute python codes.\n"
      ],
      "metadata": {
        "id": "fYD64-Fc1WYY"
      }
    },
    {
      "cell_type": "markdown",
      "source": [
        "3. what are predefined keywords in python?\n",
        "*   reserved words that have special meanings and fuction within python made for users .\n",
        "like,,  true , false, and , or , not, if , if else , for , while , break , continue\n",
        "\n"
      ],
      "metadata": {
        "id": "k30kYriN3c0i"
      }
    },
    {
      "cell_type": "markdown",
      "source": [
        "4. can keywords be use as variable name?  \n",
        "*   it will be a syntax error.\n",
        "so answer is no . we cannot use it  as name\n",
        "\n",
        "\n"
      ],
      "metadata": {
        "id": "SnyBOrxO4XXc"
      }
    },
    {
      "cell_type": "markdown",
      "source": [
        "5. what is mutablilty in python?\n",
        "\n",
        "*    Mutability refers to the ability of an object to be changed after it is created. In Python, objects are classified as either mutable or immutable based on whether nature or class.\n",
        "list is mutable and string are not.\n",
        "\n",
        "\n"
      ],
      "metadata": {
        "id": "WY9lhux144O_"
      }
    },
    {
      "cell_type": "markdown",
      "source": [
        " 6. why are list mutable, but tuple are immutable?\n",
        "\n",
        "\n",
        "*   list are designed to be flexible and dynamic.\n",
        "they are made in such a way which can be changed in future\n",
        "\n",
        "\n",
        "\n",
        "* tuples are immutable ,because it is designed in such way that there element cannot we changed after creation . IT ensure data integrity and use cases.\n",
        "\n",
        "\n"
      ],
      "metadata": {
        "id": "DCKTciav9r5E"
      }
    },
    {
      "cell_type": "markdown",
      "source": [
        "7. what is diffrence between \"==\" and is operator ?\n",
        "\n",
        "\n",
        "*   == it refers to eqality operator , it compares two object in python\n",
        "\n",
        "\n",
        "*  is \"identity operator\" it checks both variable refers to same object in memory . so both point to the same memory location.\n",
        "\n",
        "\n",
        "\n",
        "\n"
      ],
      "metadata": {
        "id": "qhy0v2HQ_WDc"
      }
    },
    {
      "cell_type": "markdown",
      "source": [
        "8. what are logical opertor in python?\n",
        "\n",
        "\n",
        "*   They are words and symbols used to combine or modify boolean expressions .\n",
        "THEY ARE OF 3 TYPES\n",
        "\n",
        "1. AND OPERATOR\n",
        "2.OR OPERATOR\n",
        "3.NOT OPEARTOR\n",
        "\n",
        "\n",
        "\n"
      ],
      "metadata": {
        "id": "3G6VziVbAmZV"
      }
    },
    {
      "cell_type": "markdown",
      "source": [
        "9.what is type casting in python?\n",
        "\n",
        "\n",
        "*  It is the process of converting a data type , from one type to another.\n",
        "It is of 2 types\n",
        "\n",
        "1.   explicit typecasting\n",
        "2.   implicit typecasting\n",
        "\n",
        "\n",
        "\n"
      ],
      "metadata": {
        "id": "EduEB53PBnxf"
      }
    },
    {
      "cell_type": "markdown",
      "source": [
        "10. what is diffrence between implicit and explicit typecasting?\n",
        "\n",
        "\n",
        "*   IMPLICIT TYPECASTING:  it is performed automatically by the interpreter .  it occurs when user can convert one type to another without losing information.\n",
        "\n",
        "*  EXPLICIT TYPECASTING: This is performed by the programmer using built-in functions to convert a value to a specific type.\n",
        "\n"
      ],
      "metadata": {
        "id": "KzJvhaAYBkQ4"
      }
    },
    {
      "cell_type": "markdown",
      "source": [
        "11. What is the purpose of conditional statement in python?\n",
        "\n",
        "*    They enable you to execute specific blocks of code only if certain conditions are met.it is easy to use and analayze.\n",
        "It is of 4 types.\n",
        ">if.\n",
        ">if else.\n",
        ">if elif else.\n",
        ">nested if else.\n",
        "\n"
      ],
      "metadata": {
        "id": "z7Ad_YygEtIZ"
      }
    },
    {
      "cell_type": "markdown",
      "source": [
        " 12. how does efif statement work?\n",
        " if condition1:\n",
        "    # Code block 1\n",
        "elif condition2:\n",
        "    # Code block 2\n",
        "elif condition3:\n",
        "    # Code block 3\n",
        "else:\n",
        "    # Code block 4\n",
        "it work like this.\n"
      ],
      "metadata": {
        "id": "GJbPNYS9FwSf"
      }
    },
    {
      "cell_type": "markdown",
      "source": [
        "13. what is diifrence between for and while loops?\n",
        "    \n",
        "\n",
        "*  For loop . iterate over a sequence of element.>> \"string\" or list. for i is used as keyword in this loop.\n",
        "*   while loop. execute a block of code until a condition is met\n",
        "while is a keyword used for this loop\n",
        "\n",
        "\n"
      ],
      "metadata": {
        "id": "9vTir8dKGumg"
      }
    },
    {
      "cell_type": "markdown",
      "source": [
        "14. Describe a scenario where a while loop is more suitable than a for loop?\n",
        "\n",
        "*  Unknown number of iteration.\n",
        "Condition-Based Termination: The loop should terminate when a specific condition is met . A while loop is designed for this type of condition-based termination, allowing you to loop until it is true.\n",
        "\n",
        "\n"
      ],
      "metadata": {
        "id": "IMriOr9jH1wt"
      }
    },
    {
      "cell_type": "code",
      "source": [
        "#write a python program to print \"hello world\"?\n",
        "print(\"hello world\")"
      ],
      "metadata": {
        "id": "MmnWerpC6hmq"
      },
      "execution_count": null,
      "outputs": []
    },
    {
      "cell_type": "code",
      "source": [
        "#write a python program to display  your name and age?\n",
        "input(\"enter your name\")\n",
        "input(\"enter your age\")"
      ],
      "metadata": {
        "id": "8DsXG_ch6yxt"
      },
      "execution_count": null,
      "outputs": []
    },
    {
      "cell_type": "code",
      "source": [
        "#write a code to print all pre defined key words in python using the keyboard library?\n",
        "help(\"keywords\")\n"
      ],
      "metadata": {
        "id": "VOzPk2JI7Q1N"
      },
      "execution_count": null,
      "outputs": []
    },
    {
      "cell_type": "code",
      "source": [
        "#write a program that checks if a given word is a python keywords?\n",
        "import keyword\n",
        "keyword.iskeyword(\"if\")"
      ],
      "metadata": {
        "id": "MAzhZ__N8etT"
      },
      "execution_count": null,
      "outputs": []
    },
    {
      "cell_type": "code",
      "source": [
        "# create a list and tuple in python ,and demonstrate how attempting to change an element works diffrently for each?\n",
        "my_list = [1,2,3,4,5]\n",
        "my_tuple = (1,2,3,4,5)\n",
        "my_list[0] = 12\n",
        "my_tuple[0]"
      ],
      "metadata": {
        "id": "R1c3sYCr8_Tu"
      },
      "execution_count": null,
      "outputs": []
    },
    {
      "cell_type": "code",
      "source": [
        "#write a function to demonstrate the behavior of mutable and immutable object?\n",
        "def modify_list(lst):\n",
        "  lst.append(4)\n",
        "my_list = [1,2,3]\n",
        "modify_list(my_list)\n",
        "print(my_list)"
      ],
      "metadata": {
        "id": "7FlfRU4Gnd9K"
      },
      "execution_count": null,
      "outputs": []
    },
    {
      "cell_type": "code",
      "source": [
        "# immutable object\n",
        "my_tuple = (1,2,3)\n",
        "print(my_tuple)"
      ],
      "metadata": {
        "id": "aV2cjOBlp29J"
      },
      "execution_count": null,
      "outputs": []
    },
    {
      "cell_type": "code",
      "source": [
        "#write a program to demonstrate the use of logical operator?\n",
        "'true' and 'false'  # here use boolean data types\n"
      ],
      "metadata": {
        "id": "Or3sb-03qb7c"
      },
      "execution_count": null,
      "outputs": []
    },
    {
      "cell_type": "code",
      "source": [
        "#write a python program to convert user input from string to integer ,float ,and boolean data type?\n",
        "a = \"5\"\n",
        "b = 3\n",
        "int(a)+b #converted string to integer\n"
      ],
      "metadata": {
        "id": "enXXvrkWw4bb"
      },
      "execution_count": null,
      "outputs": []
    },
    {
      "cell_type": "code",
      "source": [
        "# string to float\n",
        "a = \"5\"\n",
        "b = 3\n",
        "float(a)+b #converted string to float"
      ],
      "metadata": {
        "id": "3bxziz0fySR8"
      },
      "execution_count": null,
      "outputs": []
    },
    {
      "cell_type": "code",
      "source": [
        "# string to boolean datatype\n",
        "a = 5\n",
        "b = 3\n",
        "bool(a)+b #converted string to boolean"
      ],
      "metadata": {
        "id": "Xt9Efn7Tyaq_"
      },
      "execution_count": null,
      "outputs": []
    },
    {
      "cell_type": "code",
      "source": [
        "# write a code to demonstrate type casting with list elements?\n",
        "my_list = [1,2,3,\"yash\",\"ajay\",1]\n",
        "str_list = [str(1) for item in my_list]\n",
        "print(str_list)"
      ],
      "metadata": {
        "id": "0v5Imd4DyrGH"
      },
      "execution_count": null,
      "outputs": []
    },
    {
      "cell_type": "code",
      "source": [
        "# write a program that checks if a number is positive , negative , or zero?\n",
        "num = 5\n",
        "if num > 4:\n",
        "  print(\"positive\")\n",
        "elif num < 3:\n",
        "  print(\"negative\")\n",
        "else:\n",
        "  print(\"zero\")"
      ],
      "metadata": {
        "id": "8bVuL8tL1oNJ"
      },
      "execution_count": null,
      "outputs": []
    },
    {
      "cell_type": "code",
      "source": [
        "#write a for loop to print number from 1 to 10?\n",
        "for i in range(1,11):\n",
        "  print(i)"
      ],
      "metadata": {
        "id": "g3YNYQN9QvtY"
      },
      "execution_count": null,
      "outputs": []
    },
    {
      "cell_type": "code",
      "source": [
        "#write a python program to find the sum of all even number between 1 to 50\n",
        "sum = 0\n",
        "for i in range(1,51):\n",
        "  if i % 2 == 0:\n",
        "    sum = sum + i\n",
        "    print(sum)"
      ],
      "metadata": {
        "id": "oyXiRKmkRIHN"
      },
      "execution_count": null,
      "outputs": []
    },
    {
      "cell_type": "code",
      "source": [
        "#write a program to reverse a string using a while loop?\n",
        "n = \"yash\"\n",
        "i = len(n) - 1\n",
        "result = \"\"\n",
        "while i >= 0:\n",
        "  result = result + n[i]\n",
        "  i = i - 1\n",
        "print(result)"
      ],
      "metadata": {
        "id": "frOVrEW8RkW5"
      },
      "execution_count": null,
      "outputs": []
    },
    {
      "cell_type": "code",
      "source": [
        "#write a program to calculate the factorial of a number provided by the user using a while loop?\n",
        "num = 5\n",
        "factorial = 1\n",
        "while num > 0:\n",
        "  factorial = factorial * num\n",
        "  num = num - 1\n",
        "  print(factorial)"
      ],
      "metadata": {
        "id": "GXM9v4LvVKm8"
      },
      "execution_count": null,
      "outputs": []
    }
  ]
}